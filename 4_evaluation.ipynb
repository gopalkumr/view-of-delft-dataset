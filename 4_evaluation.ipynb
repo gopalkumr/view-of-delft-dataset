{
 "cells": [
  {
   "cell_type": "markdown",
   "metadata": {
    "pycharm": {
     "name": "#%% md\n"
    }
   },
   "source": [
    "# Evaluation Example\n",
    "\n",
    "This example provides an insight on how to evaluate a model on the dataset. The same evaluation procedure is the basis of the upcoming leaderboard.\n",
    "For the evaluation the 'vod.evaluation' module is used. The evaluation module provides a number of metrics that can be used to evaluate a model. The metrics are:\n",
    "- Per class AP for the entire annotated area\n",
    "- Per class AP for the driving corridor\n",
    "- Per clas AOS for the entire annotated area\n",
    "- Per class AOS for the driving corridor\n",
    "\n",
    "The evaluation procedure can be used as follows:"
   ]
  },
  {
   "cell_type": "code",
   "execution_count": 1,
   "metadata": {
    "pycharm": {
     "name": "#%%\n"
    },
    "tags": []
   },
   "outputs": [
    {
     "name": "stdout",
     "output_type": "stream",
     "text": [
      "Evaluating kitti by default\n"
     ]
    },
    {
     "ename": "ValueError",
     "evalue": "need at least one array to stack",
     "output_type": "error",
     "traceback": [
      "\u001b[0;31m---------------------------------------------------------------------------\u001b[0m",
      "\u001b[0;31mValueError\u001b[0m                                Traceback (most recent call last)",
      "Cell \u001b[0;32mIn[1], line 8\u001b[0m\n\u001b[1;32m      5\u001b[0m evaluation \u001b[38;5;241m=\u001b[39m Evaluation(test_annotation_file\u001b[38;5;241m=\u001b[39mos\u001b[38;5;241m.\u001b[39mpath\u001b[38;5;241m.\u001b[39mjoin(\u001b[38;5;124m'\u001b[39m\u001b[38;5;124mexample_set\u001b[39m\u001b[38;5;124m'\u001b[39m, \u001b[38;5;124m'\u001b[39m\u001b[38;5;124mlabel\u001b[39m\u001b[38;5;124m'\u001b[39m))\n\u001b[1;32m      7\u001b[0m \u001b[38;5;66;03m# Using the evaluate method, the model can be evaluated on the detection labels.\u001b[39;00m\n\u001b[0;32m----> 8\u001b[0m results \u001b[38;5;241m=\u001b[39m \u001b[43mevaluation\u001b[49m\u001b[38;5;241;43m.\u001b[39;49m\u001b[43mevaluate\u001b[49m\u001b[43m(\u001b[49m\n\u001b[1;32m      9\u001b[0m \u001b[43m    \u001b[49m\u001b[43mresult_path\u001b[49m\u001b[38;5;241;43m=\u001b[39;49m\u001b[43mos\u001b[49m\u001b[38;5;241;43m.\u001b[39;49m\u001b[43mpath\u001b[49m\u001b[38;5;241;43m.\u001b[39;49m\u001b[43mjoin\u001b[49m\u001b[43m(\u001b[49m\u001b[38;5;124;43m'\u001b[39;49m\u001b[38;5;124;43mexample_set\u001b[39;49m\u001b[38;5;124;43m'\u001b[39;49m\u001b[43m,\u001b[49m\u001b[43m \u001b[49m\u001b[38;5;124;43m'\u001b[39;49m\u001b[38;5;124;43mdetection\u001b[39;49m\u001b[38;5;124;43m'\u001b[39;49m\u001b[43m)\u001b[49m\u001b[43m,\u001b[49m\n\u001b[1;32m     10\u001b[0m \u001b[43m    \u001b[49m\u001b[43mcurrent_class\u001b[49m\u001b[38;5;241;43m=\u001b[39;49m\u001b[43m[\u001b[49m\u001b[38;5;241;43m0\u001b[39;49m\u001b[43m,\u001b[49m\u001b[43m \u001b[49m\u001b[38;5;241;43m1\u001b[39;49m\u001b[43m,\u001b[49m\u001b[43m \u001b[49m\u001b[38;5;241;43m2\u001b[39;49m\u001b[43m]\u001b[49m\u001b[43m)\u001b[49m\n\u001b[1;32m     12\u001b[0m \u001b[38;5;28mprint\u001b[39m(\u001b[38;5;124m\"\u001b[39m\u001b[38;5;124mResults: \u001b[39m\u001b[38;5;130;01m\\n\u001b[39;00m\u001b[38;5;124m\"\u001b[39m\n\u001b[1;32m     13\u001b[0m       \u001b[38;5;124mf\u001b[39m\u001b[38;5;124m\"\u001b[39m\u001b[38;5;124mEntire annotated area: \u001b[39m\u001b[38;5;130;01m\\n\u001b[39;00m\u001b[38;5;124m\"\u001b[39m\n\u001b[1;32m     14\u001b[0m       \u001b[38;5;124mf\u001b[39m\u001b[38;5;124m\"\u001b[39m\u001b[38;5;124mCar: \u001b[39m\u001b[38;5;132;01m{\u001b[39;00mresults[\u001b[38;5;124m'\u001b[39m\u001b[38;5;124mentire_area\u001b[39m\u001b[38;5;124m'\u001b[39m][\u001b[38;5;124m'\u001b[39m\u001b[38;5;124mCar_3d_all\u001b[39m\u001b[38;5;124m'\u001b[39m]\u001b[38;5;132;01m}\u001b[39;00m\u001b[38;5;124m \u001b[39m\u001b[38;5;130;01m\\n\u001b[39;00m\u001b[38;5;124m\"\u001b[39m\n\u001b[0;32m   (...)\u001b[0m\n\u001b[1;32m     22\u001b[0m       \u001b[38;5;124mf\u001b[39m\u001b[38;5;124m\"\u001b[39m\u001b[38;5;124mmAP: \u001b[39m\u001b[38;5;132;01m{\u001b[39;00m(results[\u001b[38;5;124m'\u001b[39m\u001b[38;5;124mroi\u001b[39m\u001b[38;5;124m'\u001b[39m][\u001b[38;5;124m'\u001b[39m\u001b[38;5;124mCar_3d_all\u001b[39m\u001b[38;5;124m'\u001b[39m]\u001b[38;5;250m \u001b[39m\u001b[38;5;241m+\u001b[39m\u001b[38;5;250m \u001b[39mresults[\u001b[38;5;124m'\u001b[39m\u001b[38;5;124mroi\u001b[39m\u001b[38;5;124m'\u001b[39m][\u001b[38;5;124m'\u001b[39m\u001b[38;5;124mPedestrian_3d_all\u001b[39m\u001b[38;5;124m'\u001b[39m]\u001b[38;5;250m \u001b[39m\u001b[38;5;241m+\u001b[39m\u001b[38;5;250m \u001b[39mresults[\u001b[38;5;124m'\u001b[39m\u001b[38;5;124mroi\u001b[39m\u001b[38;5;124m'\u001b[39m][\u001b[38;5;124m'\u001b[39m\u001b[38;5;124mCyclist_3d_all\u001b[39m\u001b[38;5;124m'\u001b[39m])\u001b[38;5;250m \u001b[39m\u001b[38;5;241m/\u001b[39m\u001b[38;5;250m \u001b[39m\u001b[38;5;241m3\u001b[39m\u001b[38;5;132;01m}\u001b[39;00m\u001b[38;5;124m \u001b[39m\u001b[38;5;130;01m\\n\u001b[39;00m\u001b[38;5;124m\"\u001b[39m\n\u001b[1;32m     23\u001b[0m       )\n",
      "File \u001b[0;32m/workspaces/view-of-delft-dataset/vod/evaluation/evaluate.py:44\u001b[0m, in \u001b[0;36mEvaluation.evaluate\u001b[0;34m(self, result_path, current_class, score_thresh)\u001b[0m\n\u001b[1;32m     41\u001b[0m gt_annotations \u001b[38;5;241m=\u001b[39m kitti\u001b[38;5;241m.\u001b[39mget_label_annotations(\u001b[38;5;28mself\u001b[39m\u001b[38;5;241m.\u001b[39mtest_annotation_file, val_image_ids)\n\u001b[1;32m     43\u001b[0m evaluation_result \u001b[38;5;241m=\u001b[39m {}\n\u001b[0;32m---> 44\u001b[0m evaluation_result\u001b[38;5;241m.\u001b[39mupdate(\u001b[43mget_official_eval_result\u001b[49m\u001b[43m(\u001b[49m\u001b[43mgt_annotations\u001b[49m\u001b[43m,\u001b[49m\u001b[43m \u001b[49m\u001b[43mdt_annotations\u001b[49m\u001b[43m,\u001b[49m\u001b[43m \u001b[49m\u001b[43mcurrent_class\u001b[49m\u001b[43m,\u001b[49m\u001b[43m \u001b[49m\u001b[43mcustom_method\u001b[49m\u001b[38;5;241;43m=\u001b[39;49m\u001b[38;5;241;43m0\u001b[39;49m\u001b[43m)\u001b[49m)\n\u001b[1;32m     45\u001b[0m evaluation_result\u001b[38;5;241m.\u001b[39mupdate(get_official_eval_result(gt_annotations, dt_annotations, current_class, custom_method\u001b[38;5;241m=\u001b[39m\u001b[38;5;241m3\u001b[39m))\n\u001b[1;32m     47\u001b[0m \u001b[38;5;28;01mreturn\u001b[39;00m evaluation_result\n",
      "File \u001b[0;32m/workspaces/view-of-delft-dataset/vod/evaluation/kitti_official_evaluate.py:741\u001b[0m, in \u001b[0;36mget_official_eval_result\u001b[0;34m(gt_annotations, dt_annotations, current_classes, pr_detail_dict, custom_method)\u001b[0m\n\u001b[1;32m    738\u001b[0m             compute_aos \u001b[38;5;241m=\u001b[39m \u001b[38;5;28;01mTrue\u001b[39;00m\n\u001b[1;32m    739\u001b[0m         \u001b[38;5;28;01mbreak\u001b[39;00m\n\u001b[0;32m--> 741\u001b[0m mAPbbox, mAPbev, mAP3d, mAPaos, mAPbbox_R40, mAPbev_R40, mAP3d_R40, mAPaos_R40 \u001b[38;5;241m=\u001b[39m \u001b[43mdo_eval\u001b[49m\u001b[43m(\u001b[49m\n\u001b[1;32m    742\u001b[0m \u001b[43m    \u001b[49m\u001b[43mgt_annotations\u001b[49m\u001b[43m,\u001b[49m\u001b[43m \u001b[49m\u001b[43mdt_annotations\u001b[49m\u001b[43m,\u001b[49m\u001b[43m \u001b[49m\u001b[43mcurrent_classes\u001b[49m\u001b[43m,\u001b[49m\u001b[43m \u001b[49m\u001b[43mmin_overlaps\u001b[49m\u001b[43m,\u001b[49m\u001b[43m \u001b[49m\u001b[43mcompute_aos\u001b[49m\u001b[43m,\u001b[49m\u001b[43m \u001b[49m\u001b[43mpr_detail_dict\u001b[49m\u001b[38;5;241;43m=\u001b[39;49m\u001b[43mpr_detail_dict\u001b[49m\u001b[43m,\u001b[49m\n\u001b[1;32m    743\u001b[0m \u001b[43m    \u001b[49m\u001b[43mcustom_method\u001b[49m\u001b[38;5;241;43m=\u001b[39;49m\u001b[43mcustom_method\u001b[49m\u001b[43m)\u001b[49m\n\u001b[1;32m    745\u001b[0m ret_dict \u001b[38;5;241m=\u001b[39m {}\n\u001b[1;32m    746\u001b[0m \u001b[38;5;28;01mfor\u001b[39;00m j, curcls \u001b[38;5;129;01min\u001b[39;00m \u001b[38;5;28menumerate\u001b[39m(current_classes):\n\u001b[1;32m    747\u001b[0m     \u001b[38;5;66;03m# mAP threshold array: [num_min_overlap, metric, class]\u001b[39;00m\n\u001b[1;32m    748\u001b[0m     \u001b[38;5;66;03m# mAP result: [num_class, num_diff, num_min_overlap]\u001b[39;00m\n",
      "File \u001b[0;32m/workspaces/view-of-delft-dataset/vod/evaluation/kitti_official_evaluate.py:647\u001b[0m, in \u001b[0;36mdo_eval\u001b[0;34m(gt_annotations, dt_annotations, current_classes, min_overlaps, compute_aos, pr_detail_dict, custom_method)\u001b[0m\n\u001b[1;32m    644\u001b[0m \u001b[38;5;28;01mif\u001b[39;00m custom_method \u001b[38;5;241m==\u001b[39m \u001b[38;5;241m3\u001b[39m:\n\u001b[1;32m    645\u001b[0m     difficulties \u001b[38;5;241m=\u001b[39m [\u001b[38;5;241m0\u001b[39m]\n\u001b[0;32m--> 647\u001b[0m ret \u001b[38;5;241m=\u001b[39m \u001b[43meval_class\u001b[49m\u001b[43m(\u001b[49m\u001b[43mgt_annotations\u001b[49m\u001b[43m,\u001b[49m\u001b[43m \u001b[49m\u001b[43mdt_annotations\u001b[49m\u001b[43m,\u001b[49m\u001b[43m \u001b[49m\u001b[43mcurrent_classes\u001b[49m\u001b[43m,\u001b[49m\u001b[43m \u001b[49m\u001b[43mdifficulties\u001b[49m\u001b[43m,\u001b[49m\u001b[43m \u001b[49m\u001b[38;5;241;43m0\u001b[39;49m\u001b[43m,\u001b[49m\n\u001b[1;32m    648\u001b[0m \u001b[43m                 \u001b[49m\u001b[43mmin_overlaps\u001b[49m\u001b[43m,\u001b[49m\u001b[43m \u001b[49m\u001b[43mcompute_aos\u001b[49m\u001b[43m,\u001b[49m\u001b[43m \u001b[49m\u001b[43mcustom_method\u001b[49m\u001b[38;5;241;43m=\u001b[39;49m\u001b[43mcustom_method\u001b[49m\u001b[43m)\u001b[49m\n\u001b[1;32m    650\u001b[0m \u001b[38;5;28mprint\u001b[39m(\u001b[38;5;124m\"\u001b[39m\u001b[38;5;124mmAP Image BBox finished\u001b[39m\u001b[38;5;124m\"\u001b[39m)\n\u001b[1;32m    651\u001b[0m mAP_bbox \u001b[38;5;241m=\u001b[39m get_m_ap(ret[\u001b[38;5;124m\"\u001b[39m\u001b[38;5;124mprecision\u001b[39m\u001b[38;5;124m\"\u001b[39m])\n",
      "File \u001b[0;32m/workspaces/view-of-delft-dataset/vod/evaluation/kitti_official_evaluate.py:533\u001b[0m, in \u001b[0;36meval_class\u001b[0;34m(gt_annotations, dt_annotations, current_classes, difficulties, metric, min_overlaps, compute_aos, num_parts, custom_method)\u001b[0m\n\u001b[1;32m    530\u001b[0m split_parts \u001b[38;5;241m=\u001b[39m get_split_parts(num_examples, num_parts)\n\u001b[1;32m    532\u001b[0m \u001b[38;5;66;03m# iou is calculated in \"parts = cluster of frames\"\u001b[39;00m\n\u001b[0;32m--> 533\u001b[0m rets \u001b[38;5;241m=\u001b[39m \u001b[43mcalculate_iou_partly\u001b[49m\u001b[43m(\u001b[49m\u001b[43mdt_annotations\u001b[49m\u001b[43m,\u001b[49m\u001b[43m \u001b[49m\u001b[43mgt_annotations\u001b[49m\u001b[43m,\u001b[49m\u001b[43m \u001b[49m\u001b[43mmetric\u001b[49m\u001b[43m,\u001b[49m\u001b[43m \u001b[49m\u001b[43mnum_parts\u001b[49m\u001b[43m)\u001b[49m\n\u001b[1;32m    534\u001b[0m overlaps, parted_overlaps, total_dt_num, total_gt_num \u001b[38;5;241m=\u001b[39m rets\n\u001b[1;32m    536\u001b[0m N_SAMPLE_PTS \u001b[38;5;241m=\u001b[39m \u001b[38;5;241m41\u001b[39m  \u001b[38;5;66;03m# what is this number\u001b[39;00m\n",
      "File \u001b[0;32m/workspaces/view-of-delft-dataset/vod/evaluation/kitti_official_evaluate.py:403\u001b[0m, in \u001b[0;36mcalculate_iou_partly\u001b[0;34m(gt_annotations, dt_annotations, metric, num_parts)\u001b[0m\n\u001b[1;32m    394\u001b[0m \u001b[38;5;250m\u001b[39m\u001b[38;5;124;03m\"\"\"fast iou algorithm. this function can be used independently to\u001b[39;00m\n\u001b[1;32m    395\u001b[0m \u001b[38;5;124;03mdo result analysis. Must be used in CAMERA coordinate system.\u001b[39;00m\n\u001b[1;32m    396\u001b[0m \u001b[38;5;124;03mArgs:\u001b[39;00m\n\u001b[0;32m   (...)\u001b[0m\n\u001b[1;32m    400\u001b[0m \u001b[38;5;124;03m    num_parts: int. a parameter for fast calculate algorithm\u001b[39;00m\n\u001b[1;32m    401\u001b[0m \u001b[38;5;124;03m\"\"\"\u001b[39;00m\n\u001b[1;32m    402\u001b[0m \u001b[38;5;28;01massert\u001b[39;00m \u001b[38;5;28mlen\u001b[39m(gt_annotations) \u001b[38;5;241m==\u001b[39m \u001b[38;5;28mlen\u001b[39m(dt_annotations)\n\u001b[0;32m--> 403\u001b[0m total_dt_num \u001b[38;5;241m=\u001b[39m \u001b[43mnp\u001b[49m\u001b[38;5;241;43m.\u001b[39;49m\u001b[43mstack\u001b[49m\u001b[43m(\u001b[49m\u001b[43m[\u001b[49m\u001b[38;5;28;43mlen\u001b[39;49m\u001b[43m(\u001b[49m\u001b[43ma\u001b[49m\u001b[43m[\u001b[49m\u001b[38;5;124;43m\"\u001b[39;49m\u001b[38;5;124;43mname\u001b[39;49m\u001b[38;5;124;43m\"\u001b[39;49m\u001b[43m]\u001b[49m\u001b[43m)\u001b[49m\u001b[43m \u001b[49m\u001b[38;5;28;43;01mfor\u001b[39;49;00m\u001b[43m \u001b[49m\u001b[43ma\u001b[49m\u001b[43m \u001b[49m\u001b[38;5;129;43;01min\u001b[39;49;00m\u001b[43m \u001b[49m\u001b[43mdt_annotations\u001b[49m\u001b[43m]\u001b[49m\u001b[43m,\u001b[49m\u001b[43m \u001b[49m\u001b[38;5;241;43m0\u001b[39;49m\u001b[43m)\u001b[49m\n\u001b[1;32m    404\u001b[0m total_gt_num \u001b[38;5;241m=\u001b[39m np\u001b[38;5;241m.\u001b[39mstack([\u001b[38;5;28mlen\u001b[39m(a[\u001b[38;5;124m\"\u001b[39m\u001b[38;5;124mname\u001b[39m\u001b[38;5;124m\"\u001b[39m]) \u001b[38;5;28;01mfor\u001b[39;00m a \u001b[38;5;129;01min\u001b[39;00m gt_annotations], \u001b[38;5;241m0\u001b[39m)\n\u001b[1;32m    405\u001b[0m num_examples \u001b[38;5;241m=\u001b[39m \u001b[38;5;28mlen\u001b[39m(gt_annotations)\n",
      "File \u001b[0;32m<__array_function__ internals>:180\u001b[0m, in \u001b[0;36mstack\u001b[0;34m(*args, **kwargs)\u001b[0m\n",
      "File \u001b[0;32m/usr/local/python/3.10.4/lib/python3.10/site-packages/numpy/core/shape_base.py:422\u001b[0m, in \u001b[0;36mstack\u001b[0;34m(arrays, axis, out)\u001b[0m\n\u001b[1;32m    420\u001b[0m arrays \u001b[38;5;241m=\u001b[39m [asanyarray(arr) \u001b[38;5;28;01mfor\u001b[39;00m arr \u001b[38;5;129;01min\u001b[39;00m arrays]\n\u001b[1;32m    421\u001b[0m \u001b[38;5;28;01mif\u001b[39;00m \u001b[38;5;129;01mnot\u001b[39;00m arrays:\n\u001b[0;32m--> 422\u001b[0m     \u001b[38;5;28;01mraise\u001b[39;00m \u001b[38;5;167;01mValueError\u001b[39;00m(\u001b[38;5;124m'\u001b[39m\u001b[38;5;124mneed at least one array to stack\u001b[39m\u001b[38;5;124m'\u001b[39m)\n\u001b[1;32m    424\u001b[0m shapes \u001b[38;5;241m=\u001b[39m {arr\u001b[38;5;241m.\u001b[39mshape \u001b[38;5;28;01mfor\u001b[39;00m arr \u001b[38;5;129;01min\u001b[39;00m arrays}\n\u001b[1;32m    425\u001b[0m \u001b[38;5;28;01mif\u001b[39;00m \u001b[38;5;28mlen\u001b[39m(shapes) \u001b[38;5;241m!=\u001b[39m \u001b[38;5;241m1\u001b[39m:\n",
      "\u001b[0;31mValueError\u001b[0m: need at least one array to stack"
     ]
    }
   ],
   "source": [
    "from vod.evaluation import Evaluation\n",
    "import os\n",
    "\n",
    "# When the instance is created, the label locations are required.\n",
    "evaluation = Evaluation(test_annotation_file=os.path.join('example_set', 'label'))\n",
    "\n",
    "# Using the evaluate method, the model can be evaluated on the detection labels.\n",
    "results = evaluation.evaluate(\n",
    "    result_path=os.path.join('example_set', 'detection'),\n",
    "    current_class=[0, 1, 2])\n",
    "\n",
    "print(\"Results: \\n\"\n",
    "      f\"Entire annotated area: \\n\"\n",
    "      f\"Car: {results['entire_area']['Car_3d_all']} \\n\"\n",
    "      f\"Pedestrian: {results['entire_area']['Pedestrian_3d_all']} \\n\"\n",
    "      f\"Cyclist: {results['entire_area']['Cyclist_3d_all']} \\n\"\n",
    "      f\"mAP: {(results['entire_area']['Car_3d_all'] + results['entire_area']['Pedestrian_3d_all'] + results['entire_area']['Cyclist_3d_all']) / 3} \\n\"\n",
    "      f\"Driving corridor area: \\n\"\n",
    "      f\"Car: {results['roi']['Car_3d_all']} \\n\"\n",
    "      f\"Pedestrian: {results['roi']['Pedestrian_3d_all']} \\n\"\n",
    "      f\"Cyclist: {results['roi']['Cyclist_3d_all']} \\n\"\n",
    "      f\"mAP: {(results['roi']['Car_3d_all'] + results['roi']['Pedestrian_3d_all'] + results['roi']['Cyclist_3d_all']) / 3} \\n\"\n",
    "      )"
   ]
  },
  {
   "cell_type": "code",
   "execution_count": null,
   "metadata": {
    "tags": []
   },
   "outputs": [],
   "source": [
    "!pip install vod.evaluation"
   ]
  },
  {
   "cell_type": "code",
   "execution_count": null,
   "metadata": {
    "tags": []
   },
   "outputs": [],
   "source": [
    "python -m pip install --upgrade pip"
   ]
  },
  {
   "cell_type": "code",
   "execution_count": null,
   "metadata": {
    "tags": []
   },
   "outputs": [],
   "source": [
    "pip install --upgrade pip"
   ]
  },
  {
   "cell_type": "code",
   "execution_count": null,
   "metadata": {},
   "outputs": [],
   "source": []
  },
  {
   "cell_type": "code",
   "execution_count": 2,
   "metadata": {
    "tags": []
   },
   "outputs": [
    {
     "name": "stdout",
     "output_type": "stream",
     "text": [
      "Collecting numba\n",
      "  Downloading numba-0.56.4-cp310-cp310-manylinux2014_x86_64.manylinux_2_17_x86_64.whl (3.5 MB)\n",
      "\u001b[2K     \u001b[90m━━━━━━━━━━━━━━━━━━━━━━━━━━━━━━━━━━━━━━━━\u001b[0m \u001b[32m3.5/3.5 MB\u001b[0m \u001b[31m46.1 MB/s\u001b[0m eta \u001b[36m0:00:00\u001b[0m:00:01\u001b[0m\n",
      "\u001b[?25hCollecting llvmlite<0.40,>=0.39.0dev0\n",
      "  Downloading llvmlite-0.39.1-cp310-cp310-manylinux_2_17_x86_64.manylinux2014_x86_64.whl (34.6 MB)\n",
      "\u001b[2K     \u001b[90m━━━━━━━━━━━━━━━━━━━━━━━━━━━━━━━━━━━━━━━━\u001b[0m \u001b[32m34.6/34.6 MB\u001b[0m \u001b[31m36.3 MB/s\u001b[0m eta \u001b[36m0:00:00\u001b[0m00:01\u001b[0m00:01\u001b[0m\n",
      "\u001b[?25hCollecting numpy<1.24,>=1.18\n",
      "  Downloading numpy-1.23.5-cp310-cp310-manylinux_2_17_x86_64.manylinux2014_x86_64.whl (17.1 MB)\n",
      "\u001b[2K     \u001b[90m━━━━━━━━━━━━━━━━━━━━━━━━━━━━━━━━━━━━━━━━\u001b[0m \u001b[32m17.1/17.1 MB\u001b[0m \u001b[31m58.6 MB/s\u001b[0m eta \u001b[36m0:00:00\u001b[0m00:01\u001b[0m00:01\u001b[0m\n",
      "\u001b[?25hRequirement already satisfied: setuptools in /usr/local/python/3.10.4/lib/python3.10/site-packages (from numba) (58.1.0)\n",
      "Installing collected packages: numpy, llvmlite, numba\n",
      "  Attempting uninstall: numpy\n",
      "    Found existing installation: numpy 1.24.2\n",
      "    Uninstalling numpy-1.24.2:\n",
      "      Successfully uninstalled numpy-1.24.2\n",
      "Successfully installed llvmlite-0.39.1 numba-0.56.4 numpy-1.23.5\n"
     ]
    }
   ],
   "source": [
    "!pip install numba"
   ]
  },
  {
   "cell_type": "code",
   "execution_count": null,
   "metadata": {},
   "outputs": [],
   "source": []
  }
 ],
 "metadata": {
  "kernelspec": {
   "display_name": "Python 3 (ipykernel)",
   "language": "python",
   "name": "python3"
  },
  "language_info": {
   "codemirror_mode": {
    "name": "ipython",
    "version": 3
   },
   "file_extension": ".py",
   "mimetype": "text/x-python",
   "name": "python",
   "nbconvert_exporter": "python",
   "pygments_lexer": "ipython3",
   "version": "3.10.4"
  }
 },
 "nbformat": 4,
 "nbformat_minor": 4
}
